{
 "cells": [
  {
   "cell_type": "code",
   "execution_count": null,
   "metadata": {},
   "outputs": [
    {
     "ename": "",
     "evalue": "",
     "output_type": "error",
     "traceback": [
      "\u001b[1;31mLa ejecución de celdas con 'Python 3.11.11' requiere el paquete ipykernel.\n",
      "\u001b[1;31m<a href='command:jupyter.createPythonEnvAndSelectController'>Crear un entorno de Python</a> con los paquetes necesarios.\n",
      "\u001b[1;31mO instale \"ipykernel\" mediante el comando: \"/usr/local/bin/python -m pip install ipykernel -U --user --force-reinstall\""
     ]
    }
   ],
   "source": [
    "from openai import OpenAI\n",
    "\n",
    "client = OpenAI()\n",
    "\n",
    "def obtener_analisis_completo(mensaje, empresa, tamaño_empresa):\n",
    "    prompt = f\"\"\"\n",
    "Eres un experto en ventas y análisis de clientes. Analiza el siguiente lead y responde con:\n",
    "\n",
    "1. Lead Score (1 a 5): nivel de intención de compra (1 = interés muy bajo, 5 = interés muy alto).\n",
    "2. Justificación: breve análisis del mensaje.\n",
    "3. Categoría: tipo de servicio o necesidad detectada.\n",
    "4. Recomendación: acción sugerida (ej. contactar ya, enviar info, ignorar, etc.)\n",
    "\n",
    "Lead:\n",
    "- Empresa: {empresa}\n",
    "- Tamaño: {tamaño_empresa}\n",
    "- Mensaje: \"{mensaje}\"\n",
    "\n",
    "Responde en formato JSON:\n",
    "{{\n",
    "  \"score\": número del 1 al 5,\n",
    "  \"justificación\": \"...\",\n",
    "\n",
    "\n",
    "\n",
    "  \n",
    "  \"categoría\": \"...\",\n",
    "  \"recomendación\": \"...\"\n",
    "}}\n",
    "\"\"\"\n",
    "    try:\n",
    "        response = client.chat.completions.create(\n",
    "            model=\"gpt-3.5-turbo\",\n",
    "            messages=[{\"role\": \"user\", \"content\": prompt}],\n",
    "            temperature=0\n",
    "        )\n",
    "        content = response.choices[0].message.content.strip()\n",
    "        return eval(content)  # O usar json.loads() si asegurás el formato\n",
    "    except Exception as e:\n",
    "        print(f\"❌ Error con lead: {mensaje}\\n{e}\")\n",
    "        return {\n",
    "            \"score\": None,\n",
    "            \"justificación\": \"Error al analizar.\",\n",
    "            \"categoría\": \"Desconocido\",\n",
    "            \"recomendación\": \"Revisar manualmente\"\n",
    "        }\n"
   ]
  },
  {
   "cell_type": "code",
   "execution_count": null,
   "metadata": {},
   "outputs": [],
   "source": [
    "# Detectar necesidad a través de la IA\n",
    "def detectar_necesidad_con_ia(mensaje):\n",
    "    prompt = f\"\"\"\n",
    "Analiza el siguiente mensaje de un lead y responde con una sola palabra o frase que describa el tipo de necesidad o servicio que busca.\n",
    "Puede ser: \"E-commerce\", \"Sitio Web\", \"Redes Sociales\", \"SEO\", \"Publicidad\", \"Diseño Gráfico\", \"Consultoría\", etc.\n",
    "\n",
    "Mensaje:\n",
    "\"{mensaje}\"\n",
    "\n",
    "Responde solo con el nombre de la categoría detectada.\n",
    "\"\"\"\n",
    "    try:\n",
    "        response = client.chat.completions.create(\n",
    "            model=\"gpt-3.5-turbo\",\n",
    "            messages=[{\"role\": \"user\", \"content\": prompt}],\n",
    "            temperature=0\n",
    "        )\n",
    "        return response.choices[0].message.content.strip()\n",
    "    except Exception as e:\n",
    "        st.warning(f\"⚠️ Error detectando necesidad: '{mensaje[:40]}...'\\n{e}\")\n",
    "        return \"Desconocido\"\n"
   ]
  },
  {
   "cell_type": "code",
   "execution_count": null,
   "metadata": {},
   "outputs": [],
   "source": [
    "from openai import OpenAI\n",
    "\n",
    "client = OpenAI()\n",
    "\n",
    "def obtener_score(mensaje, empresa, tamaño_empresa):\n",
    "    prompt = f\"\"\"\n",
    "Eres un asesor experto en marketing digital. Evalúa la calidad del siguiente lead que solicita servicios relacionados con páginas web, e-commerce o redes sociales.\n",
    "\n",
    "Del 1 al 5, indica la probabilidad de que este lead quiera contratar un servicio (1 = interés bajo, 5 = interés alto).\n",
    "\n",
    "\n",
    "Lead:\n",
    "- Empresa: {empresa}\n",
    "- Tamaño: {tamaño_empresa}\n",
    "- Mensaje: \"{mensaje}\"\n",
    "\n",
    "Solo responde con un número del 1 al 5, sin explicaciones.\n",
    "\"\"\"\n",
    "    try:\n",
    "        response = client.chat.completions.create(\n",
    "            model=\"gpt-3.5-turbo\",\n",
    "            messages=[{\"role\": \"user\", \"content\": prompt}],\n",
    "            temperature=0\n",
    "        )\n",
    "        return int(response.choices[0].message.content.strip())\n",
    "    except Exception as e:\n",
    "        print(f\"❌ Error con lead: {mensaje}\\n{e}\")\n",
    "        return None\n"
   ]
  },
  {
   "cell_type": "code",
   "execution_count": null,
   "metadata": {},
   "outputs": [],
   "source": [
    "df = pd.read_csv(\"MicroCurso_respuestas.csv\")\n",
    "\n",
    "# Tomar solo las columnas relevantes del nuevo CSV\n",
    "df_filtrado = pd.DataFrame({\n",
    "    \"nombre\": df[\"Nombre.Email\"].str.split(\",\").str[0],\n",
    "    \"email\": df[\"Nombre.Email\"].str.split(\",\").str[1],\n",
    "    \"empresa\": \"Sin datos\",\n",
    "    \"tamaño_empresa\": \"pequeña\",\n",
    "    \"mensaje\": df[df.columns[-1]]  # última columna\n",
    "})\n",
    "\n",
    "df_filtrado[\"lead_score\"] = df_filtrado.apply(\n",
    "    lambda row: obtener_score(row[\"mensaje\"], row[\"empresa\"], row[\"tamaño_empresa\"]),\n",
    "    axis=1\n",
    ")\n",
    "\n",
    "df_filtrado.to_csv(\"leads_con_scores.csv\", index=False)\n",
    "df_filtrado\n"
   ]
  },
  {
   "cell_type": "code",
   "execution_count": null,
   "metadata": {},
   "outputs": [],
   "source": [
    "def categorizar(score):\n",
    "    if score >= 4:\n",
    "        return \"🟢 Caliente\"\n",
    "    elif score == 3:\n",
    "        return \"🟡 Tibio\"\n",
    "    elif score <= 2:\n",
    "        return \"🔴 Frío\"\n",
    "    else:\n",
    "        return \"❓\"\n",
    "\n",
    "df[\"categoría\"] = df[\"lead_score\"].apply(categorizar)\n",
    "df.to_csv(\"leads_con_scores.csv\", index=False)\n",
    "df\n"
   ]
  },
  {
   "cell_type": "code",
   "execution_count": null,
   "metadata": {},
   "outputs": [],
   "source": [
    "df.to_excel(\"leads_con_scores.xlsx\", index=False)\n"
   ]
  }
 ],
 "metadata": {
  "kernelspec": {
   "display_name": "Python 3",
   "language": "python",
   "name": "python3"
  },
  "language_info": {
   "codemirror_mode": {
    "name": "ipython",
    "version": 3
   },
   "file_extension": ".py",
   "mimetype": "text/x-python",
   "name": "python",
   "nbconvert_exporter": "python",
   "pygments_lexer": "ipython3",
   "version": "3.11.11"
  }
 },
 "nbformat": 4,
 "nbformat_minor": 2
}
